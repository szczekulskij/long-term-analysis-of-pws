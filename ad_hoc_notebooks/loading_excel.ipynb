{
 "cells": [
  {
   "cell_type": "code",
   "execution_count": 64,
   "metadata": {},
   "outputs": [],
   "source": [
    "import pandas as pd\n",
    "\n",
    "def format_df(df):\n",
    "    df.rename(columns = {\n",
    "        \"nazwisko\" : \"surname\",\n",
    "        \"czas \" : \"time\",\n",
    "        \"total clearence effect wzgledem poczatku\" : \"total_GCE\",\n",
    "        \"wizyta po ilu zabiegach\" : \"visit_nr\",\n",
    "        \"total clearence pomiedzy wizytami\" : \"inbetween_GCE\",\n",
    "        \"Zmiana powierzchni w %\\n(Area change)\" : \"total_area_change\",\n",
    "        \"Zmiana koloru wzgledem poczatku\\n(Clearence Effect)\" : \"total_clearence_effect\",\n",
    "        \"Bezwgledna zmiana powierzchni\\n(Area change inbetween visits)\" : \"inbetween_area_change\",\n",
    "        \"Clearence effect% między następowymi wizytami\\n(Clearence Effect inbetween visits)\" : \"inbetween_clearence_effect\"\n",
    "        }, inplace = True)\n",
    "    df.drop(columns = ['date of birth', 'previous treatment', 'uprzednie leczenie info'], inplace= True)\n",
    "    df = df[[\"surname\", \"visit_nr\", \"time\", \"total_GCE\", \"total_area_change\", \"total_clearence_effect\", \"inbetween_GCE\", \"inbetween_area_change\", \"inbetween_clearence_effect\"]]\n",
    "    # strig spaces:\n",
    "    def strip_space_robust(cell):\n",
    "        try : \n",
    "            float(cell)\n",
    "            return cell\n",
    "        except:\n",
    "            try:\n",
    "                str(cell)\n",
    "                return cell.replace(\" \", \"\")\n",
    "            except:\n",
    "                raise Exception(\"Something went wrong!\")\n",
    "    df = df.applymap(strip_space_robust)\n",
    "    return df\n",
    "\n",
    "def fill_surnames(df):\n",
    "    new_surname = []\n",
    "    current_surname = ''\n",
    "    for i in df['surname']:\n",
    "        if type(i) == str:\n",
    "            current_surname = i\n",
    "        new_surname.append(current_surname)\n",
    "    df['surname'] = new_surname\n",
    "    return df\n",
    "\n",
    "def filter_df(df):\n",
    "    df = df.loc[~df.total_GCE.isin([\"brakzdjęcia\", \"brakdanych\"])]\n",
    "    df = df.loc[~df.total_GCE.isnull()]\n",
    "    df = df.loc[~df.visit_nr.isin([\"niebyłozabiegu\", \"brakzabiegu\"])]\n",
    "    return df\n",
    "\n",
    "def get_data_df(type = \"total\"):\n",
    "    df = pd.read_excel('/Users/szczekulskij/side_projects/long-term-analysis-of-pws/data/final_version.xlsx', sheet_name=\"wszystkie dane poprawione\") \n",
    "    df = format_df(df) # rename columns, drop columns, reorder df\n",
    "    df = filter_df(df)\n",
    "    df = fill_surnames(df) # fill in surnames info\n",
    "    if type == \"total\":\n",
    "        df.drop(columns = [\"inbetween_GCE\", \"inbetween_area_change\", \"inbetween_clearence_effect\"], inplace = True)\n",
    "    elif type == \"inbetween\":\n",
    "        df.drop(columns = [\"total_GCE\", \"total_area_change\", \"total_clearence_effect\"], inplace = True)\n",
    "    else : \n",
    "        raise Exception(f\"Wrong type passed in!. Type was : {type}. But has to be either 'total' or 'inbetween'\")\n",
    "    for column in df.columns:\n",
    "        df = df.loc[df[column] != \"brak\"]\n",
    "    return df"
   ]
  },
  {
   "cell_type": "code",
   "execution_count": null,
   "metadata": {},
   "outputs": [],
   "source": []
  }
 ],
 "metadata": {
  "kernelspec": {
   "display_name": "Python 3",
   "language": "python",
   "name": "python3"
  },
  "language_info": {
   "codemirror_mode": {
    "name": "ipython",
    "version": 3
   },
   "file_extension": ".py",
   "mimetype": "text/x-python",
   "name": "python",
   "nbconvert_exporter": "python",
   "pygments_lexer": "ipython3",
   "version": "3.10.9"
  },
  "orig_nbformat": 4,
  "vscode": {
   "interpreter": {
    "hash": "aee8b7b246df8f9039afb4144a1f6fd8d2ca17a180786b69acc140d282b71a49"
   }
  }
 },
 "nbformat": 4,
 "nbformat_minor": 2
}
