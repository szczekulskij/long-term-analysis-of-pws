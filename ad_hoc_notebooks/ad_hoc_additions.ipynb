{
 "cells": [
  {
   "cell_type": "code",
   "execution_count": 1,
   "metadata": {},
   "outputs": [],
   "source": [
    "import matplotlib.pyplot as plt\n",
    "import sys  \n",
    "sys.path.insert(0, '/Users/szczekulskij/side_projects/long-term-analysis-of-pws')\n",
    "from src.generate_df import get_data_df\n",
    "from statistics import mean"
   ]
  },
  {
   "cell_type": "code",
   "execution_count": null,
   "metadata": {},
   "outputs": [],
   "source": [
    "plt.figure(figsize=(20,10))\n",
    "plot_fig6A_graph()\n",
    "plt.ylabel(\"% mean improvement (GCE)\", size = 30)"
   ]
  },
  {
   "attachments": {},
   "cell_type": "markdown",
   "metadata": {},
   "source": [
    "#### If you haven't already, move these to main.ipynb"
   ]
  },
  {
   "cell_type": "code",
   "execution_count": 5,
   "metadata": {},
   "outputs": [],
   "source": [
    "LINEWIDTH = 5\n",
    "DATA = {\n",
    "    # It's all in total's GCE\n",
    "    \"13.Zborowski\" : {\n",
    "        \"max\" : 77.37903,\n",
    "        \"break_time\" : 1867,\n",
    "        \"after_break\" : 57.2239,\n",
    "        \"after_2_visits\" : 81.18361\n",
    "    },\n",
    "    \n",
    "    \"17.Górszczak\" : {\n",
    "        \"max\" : 76.61975,\n",
    "        \"break_time\" : 1647,\n",
    "        \"after_break\" : 31.79399,\n",
    "        \"after_2_visits\" : 69.8795\n",
    "    },\n",
    "    \n",
    "    \"35.Twardzik\" : {\n",
    "        \"max\" : 84.65033,\n",
    "        \"break_time\" : 1860,\n",
    "        \"after_break\" : 51,\n",
    "        \"after_2_visits\" : 74 \n",
    "    }\n",
    "}"
   ]
  },
  {
   "cell_type": "code",
   "execution_count": null,
   "metadata": {},
   "outputs": [],
   "source": []
  }
 ],
 "metadata": {
  "kernelspec": {
   "display_name": "Python 3",
   "language": "python",
   "name": "python3"
  },
  "language_info": {
   "codemirror_mode": {
    "name": "ipython",
    "version": 3
   },
   "file_extension": ".py",
   "mimetype": "text/x-python",
   "name": "python",
   "nbconvert_exporter": "python",
   "pygments_lexer": "ipython3",
   "version": "3.10.9"
  },
  "orig_nbformat": 4,
  "vscode": {
   "interpreter": {
    "hash": "aee8b7b246df8f9039afb4144a1f6fd8d2ca17a180786b69acc140d282b71a49"
   }
  }
 },
 "nbformat": 4,
 "nbformat_minor": 2
}
