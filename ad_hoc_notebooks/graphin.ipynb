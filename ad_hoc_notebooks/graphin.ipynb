{
 "cells": [
  {
   "cell_type": "code",
   "execution_count": 69,
   "metadata": {},
   "outputs": [],
   "source": [
    "import sys  \n",
    "sys.path.insert(0, '/Users/szczekulskij/side_projects/long-term-analysis-of-pws')\n",
    "from src.generate_df import get_data_df\n",
    "from src.utils import add_bucketed_time_column_to_df\n",
    "\n",
    "\n",
    "import scipy.stats as stats\n",
    "from statistics import mean as get_mean\n",
    "from scipy.stats import ttest_rel as ttest_related\n",
    "from scipy.stats import ttest_ind as ttest_not_related\n",
    "\n",
    "import matplotlib.pyplot as plt\n",
    "import numpy as np\n",
    "import pandas as pd"
   ]
  },
  {
   "cell_type": "code",
   "execution_count": 98,
   "metadata": {},
   "outputs": [
    {
     "name": "stdout",
     "output_type": "stream",
     "text": [
      "[0, 120, 240, 360]\n",
      "['0 - 120', '120 - 240', '240 - 360', '360+']\n"
     ]
    },
    {
     "name": "stderr",
     "output_type": "stream",
     "text": [
      "/usr/local/lib/python3.10/site-packages/pandas/core/apply.py:507: FutureWarning: Dropping invalid columns in DataFrameGroupBy.mean is deprecated. In a future version, a TypeError will be raised. Before calling .mean, select only columns which should be valid for the function.\n",
      "  return self._try_aggregate_string_function(obj, f, *self.args, **self.kwargs)\n"
     ]
    },
    {
     "data": {
      "text/html": [
       "<div>\n",
       "<style scoped>\n",
       "    .dataframe tbody tr th:only-of-type {\n",
       "        vertical-align: middle;\n",
       "    }\n",
       "\n",
       "    .dataframe tbody tr th {\n",
       "        vertical-align: top;\n",
       "    }\n",
       "\n",
       "    .dataframe thead th {\n",
       "        text-align: right;\n",
       "    }\n",
       "</style>\n",
       "<table border=\"1\" class=\"dataframe\">\n",
       "  <thead>\n",
       "    <tr style=\"text-align: right;\">\n",
       "      <th></th>\n",
       "      <th>bucket</th>\n",
       "      <th>patients_per_bucket</th>\n",
       "    </tr>\n",
       "  </thead>\n",
       "  <tbody>\n",
       "    <tr>\n",
       "      <th>0</th>\n",
       "      <td>0 - 120</td>\n",
       "      <td>208</td>\n",
       "    </tr>\n",
       "    <tr>\n",
       "      <th>1</th>\n",
       "      <td>120 - 240</td>\n",
       "      <td>88</td>\n",
       "    </tr>\n",
       "    <tr>\n",
       "      <th>2</th>\n",
       "      <td>240 - 360</td>\n",
       "      <td>25</td>\n",
       "    </tr>\n",
       "    <tr>\n",
       "      <th>3</th>\n",
       "      <td>360+</td>\n",
       "      <td>11</td>\n",
       "    </tr>\n",
       "  </tbody>\n",
       "</table>\n",
       "</div>"
      ],
      "text/plain": [
       "      bucket  patients_per_bucket\n",
       "0    0 - 120                  208\n",
       "1  120 - 240                   88\n",
       "2  240 - 360                   25\n",
       "3       360+                   11"
      ]
     },
     "metadata": {},
     "output_type": "display_data"
    },
    {
     "data": {
      "image/png": "[encoded data removed]",
      "text/plain": [
       "<Figure size 640x480 with 1 Axes>"
      ]
     },
     "metadata": {},
     "output_type": "display_data"
    }
   ],
   "source": [
    "LINEWIDTH = 5\n",
    "def graph_based_on_time_bucket(metric, agg_type = \"mean\", buckets_nr = 4, increment = 120):\n",
    "    # Get data\n",
    "    buckets = [i * increment for i in range(buckets_nr)]\n",
    "    df = get_data_df(metric = metric)\n",
    "    df = add_bucketed_time_column_to_df(df, buckets_nr = buckets_nr, increment = increment)\n",
    "    grouped_by_bucket = df.groupby(\"bucket\", as_index = False).agg(agg_type)\n",
    "    x = np.array(list(grouped_by_bucket[\"bucket\"]))\n",
    "    y = list(grouped_by_bucket[metric])\n",
    "\n",
    "    # Plot\n",
    "    plt.plot(x, y, linewidth = LINEWIDTH)\n",
    "    ticks_labels = [f\"{buckets[i]} - {buckets[i+1]}\" for i in range(len(buckets) - 1)]\n",
    "    ticks_labels.append(f\"{buckets[-1]}+\")\n",
    "    print(ticks_labels)\n",
    "    plt.xticks(x, ticks_labels)\n",
    "    plt.axhline(y=0, color='r', linestyle='-')\n",
    "    ax = plt.gca()\n",
    "    for label in (ax.get_xticklabels() + ax.get_yticklabels()):\n",
    "        label.set_fontsize(14.5)\n",
    "\n",
    "    # Calculate nr of patients per bucket\n",
    "    grouped_by_bucket = df.groupby(\"bucket\", as_index = False)\n",
    "    patients_per_bucket = grouped_by_bucket[metric].count()\n",
    "    patients_per_bucket.rename(columns = {metric : f'patients_per_bucket'}, inplace = True)\n",
    "    patients_per_bucket[\"bucket\"] = ticks_labels\n",
    "    display(patients_per_bucket)\n",
    "    \n",
    "graph_based_on_time_bucket(\"inbetween_GCE\")"
   ]
  },
  {
   "cell_type": "code",
   "execution_count": null,
   "metadata": {},
   "outputs": [],
   "source": [
    "def get_labels(buckets_nr = 4, increment = 120):\n",
    "    labels = []\n",
    "    for i in range (buckets_nr):\n",
    "        if i == 0 :\n",
    "            label = f'{i} - {int(i * increment + increment/2)}'\n",
    "        else : \n",
    "            label = f'{int(i * increment - increment/2) + 1} - {int(i * increment + increment/2)}'\n",
    "        labels.append(label)\n",
    "    return labels\n",
    "\n",
    "\n",
    "def graph_based_on_time_bucket(metric, agg = 'mean', buckets_nr = 4, increment = 120):\n",
    "\n",
    "    \n",
    "    df = add_bucketed_time_column_to_df(df, buckets_nr = 4, increment = 120)\n",
    "\n",
    "\n",
    "    grouped_by_visit = df.groupby(base_column, as_index = False).agg({'time' : agg, 'total_clearence_in_between_visits' : agg, 'total_clearence_in_respect_to_beginning' : agg}, as_index = False)\n",
    "    time_groups = np.array(list(grouped_by_visit[\"group\"]))\n",
    "    aggregated_column = list(grouped_by_visit[column])\n",
    "    plt.title(f\"sredni mean clearence between visits {title}\", fontsize=16)\n",
    "    plt.plot(time_groups, aggregated_column, label = label, linewidth = LINEWIDTH)\n",
    "    plt.xlabel('Days passed between two consecutive visits\\n (clustered into buckets)', fontsize=16)\n",
    "    \n",
    "    try:\n",
    "        plt.xticks(time_groups, get_labels(DEFAULT_GROUPS, increment))\n",
    "    except:\n",
    "        NEW_DEFAULT_GROUPS = []\n",
    "        for index in time_groups:\n",
    "            NEW_DEFAULT_GROUPS.append(DEFAULT_GROUPS[index])\n",
    "        plt.xticks(time_groups, get_labels(NEW_DEFAULT_GROUPS, increment))\n",
    "\n",
    "\n",
    "    if not skip_linear_fit:\n",
    "        \n",
    "        # Get lineary fit graph:\n",
    "        # x = np.array(time_groups)\n",
    "        # y = aggregated_column\n",
    "        m, b = np.polyfit(time_groups, aggregated_column, 1)\n",
    "        plt.plot(time_groups, m*time_groups + b, '--', linewidth = 2, linestyle = '--')\n",
    "        # calculate the Pearson's correlation between two variables\n",
    "        corr, _ = pearsonr(time_groups, aggregated_column)\n",
    "        print(f'Pearsons correlation of the linear fit for {label}: %.3f' % corr, '(very bad practice though)')\n",
    "\n",
    "\n",
    "\n",
    "    column_name = get_name(column)\n",
    "    plt.ylabel(f'% mean improvement\\n inbetween visits\\n', fontsize=16)\n",
    "    plt.axhline(y=0, color='r', linestyle='-')\n",
    "    plt.legend()\n",
    "\n",
    "\n",
    "    # Return nr of patients_per_bucket\n",
    "    grouped_by_visit = df.groupby(base_column, as_index = False)\n",
    "    patients_per_bucket = grouped_by_visit['------------'].count()\n",
    "    patients_per_bucket.rename(columns = {'------------' : f'patients_in_bucket {label}'}, inplace = True)\n",
    "    patients_per_bucket[base_column] = patients_per_bucket[base_column] * increment\n",
    "\n",
    "    # chi squared contigency test\n",
    "    # chi_squared_test(df, GROUPS, increment, display_data_for_chi_square_test, name = label, column_name = base_column)\n",
    "    # print()\n",
    "\n",
    "    ax = plt.gca()\n",
    "    for label in (ax.get_xticklabels() + ax.get_yticklabels()):\n",
    "        label.set_fontsize(14.5)\n",
    "\n",
    "    return patients_per_bucket"
   ]
  }
 ],
 "metadata": {
  "kernelspec": {
   "display_name": "Python 3",
   "language": "python",
   "name": "python3"
  },
  "language_info": {
   "codemirror_mode": {
    "name": "ipython",
    "version": 3
   },
   "file_extension": ".py",
   "mimetype": "text/x-python",
   "name": "python",
   "nbconvert_exporter": "python",
   "pygments_lexer": "ipython3",
   "version": "3.10.9"
  },
  "orig_nbformat": 4,
  "vscode": {
   "interpreter": {
    "hash": "aee8b7b246df8f9039afb4144a1f6fd8d2ca17a180786b69acc140d282b71a49"
   }
  }
 },
 "nbformat": 4,
 "nbformat_minor": 2
}
