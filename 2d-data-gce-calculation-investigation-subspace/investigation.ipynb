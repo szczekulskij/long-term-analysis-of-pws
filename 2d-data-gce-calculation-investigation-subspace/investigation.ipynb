{
 "cells": [
  {
   "cell_type": "code",
   "execution_count": null,
   "metadata": {},
   "outputs": [],
   "source": [
    "# Prepare surnames of patients from pictures & their according GCE\n",
    "\n",
    "\n",
    "# Look up GCE for og pictures"
   ]
  }
 ],
 "metadata": {
  "language_info": {
   "name": "python"
  }
 },
 "nbformat": 4,
 "nbformat_minor": 2
}
