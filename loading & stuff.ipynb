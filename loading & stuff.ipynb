{
 "cells": [
  {
   "cell_type": "code",
   "execution_count": 1,
   "metadata": {},
   "outputs": [],
   "source": [
    "import pandas as pd\n",
    "import numpy as np\n",
    "import matplotlib.pyplot as plt\n",
    "import math\n",
    "\n",
    "from load_data import get_data"
   ]
  },
  {
   "cell_type": "markdown",
   "metadata": {},
   "source": [
    "# Exploratory area:\n",
    "### Few notes:\n",
    "* The table above should include all information You need\n",
    "* `wizyta po ilu zabiegach` -> can have some skipped zabiegy & can start at other point than 0\n",
    "* `czas` -> defined as czas between this and next visit"
   ]
  },
  {
   "cell_type": "code",
   "execution_count": 6,
   "metadata": {},
   "outputs": [
    {
     "data": {
      "text/html": [
       "<div>\n",
       "<style scoped>\n",
       "    .dataframe tbody tr th:only-of-type {\n",
       "        vertical-align: middle;\n",
       "    }\n",
       "\n",
       "    .dataframe tbody tr th {\n",
       "        vertical-align: top;\n",
       "    }\n",
       "\n",
       "    .dataframe thead th {\n",
       "        text-align: right;\n",
       "    }\n",
       "</style>\n",
       "<table border=\"1\" class=\"dataframe\">\n",
       "  <thead>\n",
       "    <tr style=\"text-align: right;\">\n",
       "      <th></th>\n",
       "      <th>surname</th>\n",
       "      <th>time</th>\n",
       "      <th>visit_number</th>\n",
       "      <th>total_clearance_between_visit</th>\n",
       "      <th>total_clearance_summed</th>\n",
       "      <th>------------</th>\n",
       "      <th>clearance_between_visit</th>\n",
       "    </tr>\n",
       "  </thead>\n",
       "  <tbody>\n",
       "    <tr>\n",
       "      <th>0</th>\n",
       "      <td>1.Gasek</td>\n",
       "      <td>57</td>\n",
       "      <td>1</td>\n",
       "      <td>10.435940</td>\n",
       "      <td>10.435942</td>\n",
       "      <td></td>\n",
       "      <td>10.435942</td>\n",
       "    </tr>\n",
       "    <tr>\n",
       "      <th>1</th>\n",
       "      <td>1.Gasek</td>\n",
       "      <td>958</td>\n",
       "      <td>2</td>\n",
       "      <td>14.814190</td>\n",
       "      <td>8.725376</td>\n",
       "      <td></td>\n",
       "      <td>-1.710566</td>\n",
       "    </tr>\n",
       "    <tr>\n",
       "      <th>2</th>\n",
       "      <td>1.Gasek</td>\n",
       "      <td>70</td>\n",
       "      <td>3</td>\n",
       "      <td>10.424290</td>\n",
       "      <td>5.848092</td>\n",
       "      <td></td>\n",
       "      <td>-2.877283</td>\n",
       "    </tr>\n",
       "    <tr>\n",
       "      <th>3</th>\n",
       "      <td>1.Gasek</td>\n",
       "      <td>63</td>\n",
       "      <td>4</td>\n",
       "      <td>24.239930</td>\n",
       "      <td>30.519873</td>\n",
       "      <td></td>\n",
       "      <td>24.671780</td>\n",
       "    </tr>\n",
       "    <tr>\n",
       "      <th>4</th>\n",
       "      <td>1.Gasek</td>\n",
       "      <td>238</td>\n",
       "      <td>5</td>\n",
       "      <td>17.252580</td>\n",
       "      <td>29.827784</td>\n",
       "      <td></td>\n",
       "      <td>-0.692089</td>\n",
       "    </tr>\n",
       "    <tr>\n",
       "      <th>5</th>\n",
       "      <td>2. Kolodziejska</td>\n",
       "      <td>217</td>\n",
       "      <td>1</td>\n",
       "      <td>66.956580</td>\n",
       "      <td>66.956580</td>\n",
       "      <td></td>\n",
       "      <td>66.956580</td>\n",
       "    </tr>\n",
       "    <tr>\n",
       "      <th>6</th>\n",
       "      <td>2. Kolodziejska</td>\n",
       "      <td>42</td>\n",
       "      <td>2</td>\n",
       "      <td>41.810011</td>\n",
       "      <td>73.874127</td>\n",
       "      <td></td>\n",
       "      <td>6.917547</td>\n",
       "    </tr>\n",
       "    <tr>\n",
       "      <th>7</th>\n",
       "      <td>2. Kolodziejska</td>\n",
       "      <td>26</td>\n",
       "      <td>5</td>\n",
       "      <td>25.568145</td>\n",
       "      <td>63.062020</td>\n",
       "      <td></td>\n",
       "      <td>-10.812106</td>\n",
       "    </tr>\n",
       "    <tr>\n",
       "      <th>8</th>\n",
       "      <td>2. Kolodziejska</td>\n",
       "      <td>294</td>\n",
       "      <td>6</td>\n",
       "      <td>86.486312</td>\n",
       "      <td>85.272086</td>\n",
       "      <td></td>\n",
       "      <td>22.210066</td>\n",
       "    </tr>\n",
       "    <tr>\n",
       "      <th>9</th>\n",
       "      <td>4. Krzyszton</td>\n",
       "      <td>35</td>\n",
       "      <td>3</td>\n",
       "      <td>-46.287701</td>\n",
       "      <td>-17.363140</td>\n",
       "      <td></td>\n",
       "      <td>-17.363140</td>\n",
       "    </tr>\n",
       "  </tbody>\n",
       "</table>\n",
       "</div>"
      ],
      "text/plain": [
       "           surname  time  visit_number  total_clearance_between_visit  \\\n",
       "0          1.Gasek    57             1                      10.435940   \n",
       "1          1.Gasek   958             2                      14.814190   \n",
       "2          1.Gasek    70             3                      10.424290   \n",
       "3          1.Gasek    63             4                      24.239930   \n",
       "4          1.Gasek   238             5                      17.252580   \n",
       "5  2. Kolodziejska   217             1                      66.956580   \n",
       "6  2. Kolodziejska    42             2                      41.810011   \n",
       "7  2. Kolodziejska    26             5                      25.568145   \n",
       "8  2. Kolodziejska   294             6                      86.486312   \n",
       "9     4. Krzyszton    35             3                     -46.287701   \n",
       "\n",
       "   total_clearance_summed ------------  clearance_between_visit  \n",
       "0               10.435942                             10.435942  \n",
       "1                8.725376                             -1.710566  \n",
       "2                5.848092                             -2.877283  \n",
       "3               30.519873                             24.671780  \n",
       "4               29.827784                             -0.692089  \n",
       "5               66.956580                             66.956580  \n",
       "6               73.874127                              6.917547  \n",
       "7               63.062020                            -10.812106  \n",
       "8               85.272086                             22.210066  \n",
       "9              -17.363140                            -17.363140  "
      ]
     },
     "execution_count": 6,
     "metadata": {},
     "output_type": "execute_result"
    }
   ],
   "source": [
    "df = get_data(format_type = 'all')\n",
    "\n",
    "df.head(10)"
   ]
  },
  {
   "cell_type": "code",
   "execution_count": 2,
   "metadata": {},
   "outputs": [],
   "source": [
    "def format_by_moving_to_0(df):\n",
    "    \n",
    "    return df\n",
    "\n",
    "def format_by_removing_non_0s(df):\n",
    "    return df"
   ]
  },
  {
   "cell_type": "code",
   "execution_count": null,
   "metadata": {},
   "outputs": [],
   "source": []
  },
  {
   "cell_type": "code",
   "execution_count": 8,
   "metadata": {},
   "outputs": [
    {
     "data": {
      "text/plain": [
       "[<matplotlib.lines.Line2D at 0x13c159c90>]"
      ]
     },
     "execution_count": 8,
     "metadata": {},
     "output_type": "execute_result"
    },
    {
     "data": {
      "image/png": "[encoded data removed]",
      "text/plain": [
       "<Figure size 432x288 with 1 Axes>"
      ]
     },
     "metadata": {
      "needs_background": "light"
     },
     "output_type": "display_data"
    }
   ],
   "source": [
    "grouped_by_visit = doc.groupby('visit_number', as_index = False).agg({'time' : 'mean', 'clearance_between_visit' : 'mean', 'summed_clearance' : 'mean'}, as_index = False)\n",
    "visits = [0] + list(grouped_by_visit['visit_number'])\n",
    "summed_clearances = [0] + list(grouped_by_visit['summed_clearance'])\n",
    "plt.plot(visits, summed_clearances)"
   ]
  },
  {
   "cell_type": "code",
   "execution_count": 38,
   "metadata": {},
   "outputs": [
    {
     "data": {
      "text/plain": [
       "[<matplotlib.lines.Line2D at 0x13b87afd0>]"
      ]
     },
     "execution_count": 38,
     "metadata": {},
     "output_type": "execute_result"
    },
    {
     "data": {
      "image/png": "[encoded data removed]",
      "text/plain": [
       "<Figure size 432x288 with 1 Axes>"
      ]
     },
     "metadata": {
      "needs_background": "light"
     },
     "output_type": "display_data"
    }
   ],
   "source": [
    "# Single client total clearence effect:\n",
    "patient1 = doc.head(5)\n",
    "total_visits = [0] + list(patient1['wizyta po ilu zabiegach'])\n",
    "total_clearance = [0] + list(patient1['total clearence effect miedzy sasiednimi wizytami'])\n",
    "plt.plot(total_visits, total_clearance)"
   ]
  },
  {
   "cell_type": "code",
   "execution_count": null,
   "metadata": {},
   "outputs": [],
   "source": [
    "# All clients total clearence effect:\n",
    "data = doc.groupby()"
   ]
  },
  {
   "cell_type": "code",
   "execution_count": null,
   "metadata": {},
   "outputs": [],
   "source": []
  },
  {
   "cell_type": "markdown",
   "metadata": {},
   "source": [
    "# Hard-Coded Area:"
   ]
  },
  {
   "cell_type": "code",
   "execution_count": null,
   "metadata": {},
   "outputs": [],
   "source": []
  },
  {
   "cell_type": "code",
   "execution_count": null,
   "metadata": {},
   "outputs": [],
   "source": []
  }
 ],
 "metadata": {
  "interpreter": {
   "hash": "af3a2f2831d9979b7768215aeea8d530230773db013b0596f8fdeb84b056b8d7"
  },
  "kernelspec": {
   "display_name": "Python 3.7.4 64-bit ('3.7.4': pyenv)",
   "language": "python",
   "name": "python3"
  },
  "language_info": {
   "codemirror_mode": {
    "name": "ipython",
    "version": 3
   },
   "file_extension": ".py",
   "mimetype": "text/x-python",
   "name": "python",
   "nbconvert_exporter": "python",
   "pygments_lexer": "ipython3",
   "version": "3.7.4"
  },
  "orig_nbformat": 4
 },
 "nbformat": 4,
 "nbformat_minor": 2
}
